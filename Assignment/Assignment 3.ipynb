{
 "cells": [
  {
   "cell_type": "code",
   "execution_count": 1,
   "id": "63bbf9f8",
   "metadata": {},
   "outputs": [
    {
     "name": "stdout",
     "output_type": "stream",
     "text": [
      "Question 1\n",
      "Twinkle , twinkle , little star \n",
      "\tHow i wonder what you are! \n",
      "\t\tUp above the world so high \n",
      "\t\tLike a diamond in the sky. \n",
      "Twinkle , twinkle , little star \n",
      "\tHow i wonder what you are!\n"
     ]
    }
   ],
   "source": [
    "print(\"Question 1\");\n",
    "print(\"Twinkle , twinkle , little star \\n\\tHow i wonder what you are! \\n\\t\\tUp above the world so high \\n\\t\\tLike a diamond in the sky. \\nTwinkle , twinkle , little star \\n\\tHow i wonder what you are!\");\n"
   ]
  },
  {
   "cell_type": "code",
   "execution_count": 2,
   "id": "e88424f6",
   "metadata": {},
   "outputs": [
    {
     "name": "stdout",
     "output_type": "stream",
     "text": [
      "Question 2\n",
      "3.8.8 (default, Apr 13 2021, 15:08:03) [MSC v.1916 64 bit (AMD64)]\n"
     ]
    }
   ],
   "source": [
    "print(\"Question 2\");\n",
    "import sys\n",
    "print(sys.version)"
   ]
  },
  {
   "cell_type": "code",
   "execution_count": 3,
   "id": "729528ba",
   "metadata": {},
   "outputs": [
    {
     "name": "stdout",
     "output_type": "stream",
     "text": [
      "Question 3\n",
      "Current date and time : \n",
      "2021-10-23 00:09:04\n"
     ]
    }
   ],
   "source": [
    "print(\"Question 3\");\n",
    "import datetime\n",
    "now = datetime.datetime.now()\n",
    "print (\"Current date and time : \")\n",
    "print (now.strftime(\"%Y-%m-%d %H:%M:%S\"))"
   ]
  },
  {
   "cell_type": "code",
   "execution_count": 4,
   "id": "41c91155",
   "metadata": {},
   "outputs": [
    {
     "name": "stdout",
     "output_type": "stream",
     "text": [
      "Question 4\n",
      "Input the radius of the circle : 16\n",
      "The area of the circle with radius 16.0 is: 804.247719318987\n"
     ]
    }
   ],
   "source": [
    "print(\"Question 4\");\n",
    "from math import pi\n",
    "r = float(input (\"Input the radius of the circle : \"))\n",
    "print (\"The area of the circle with radius \" + str(r) + \" is: \" + str(pi * r**2))"
   ]
  },
  {
   "cell_type": "code",
   "execution_count": 5,
   "id": "03b33a8b",
   "metadata": {},
   "outputs": [
    {
     "name": "stdout",
     "output_type": "stream",
     "text": [
      "Question 5\n",
      "Enteryour nameArshiya Tariq\n"
     ]
    },
    {
     "data": {
      "text/plain": [
       "'qiraT ayihsrA'"
      ]
     },
     "execution_count": 5,
     "metadata": {},
     "output_type": "execute_result"
    }
   ],
   "source": [
    "print(\"Question 5\");\n",
    "a=input(\"Enteryour name\")[::-1]\n",
    "a"
   ]
  },
  {
   "cell_type": "code",
   "execution_count": 6,
   "id": "501ff7e8",
   "metadata": {},
   "outputs": [
    {
     "name": "stdout",
     "output_type": "stream",
     "text": [
      "Question 6\n",
      "Arshiya  Tariq\n"
     ]
    }
   ],
   "source": [
    "print(\"Question 6\");\n",
    "A = \"Arshiya\"\n",
    "B = \" Tariq\"\n",
    "print(A,B)"
   ]
  },
  {
   "cell_type": "code",
   "execution_count": 8,
   "id": "e73bec4a",
   "metadata": {},
   "outputs": [
    {
     "name": "stdout",
     "output_type": "stream",
     "text": [
      "Question 7\n",
      "Enter marks of the first subject: 78\n",
      "Enter marks of the second subject: 89\n",
      "Enter marks of the third subject: 98\n",
      "Enter marks of the fourth subject: 99\n",
      "Enter marks of the fifth subject: 78\n",
      "A+\n"
     ]
    }
   ],
   "source": [
    "print(\"Question 7\");\n",
    "eng=int(input(\"Enter marks of the first subject: \"))\n",
    "urdu=int(input(\"Enter marks of the second subject: \"))\n",
    "maths=int(input(\"Enter marks of the third subject: \"))\n",
    "chemistry=int(input(\"Enter marks of the fourth subject: \"))\n",
    "physics=int(input(\"Enter marks of the fifth subject: \"))\n",
    "total=500\n",
    "percent=(eng+urdu+maths+chemistry+physics)/total*100\n",
    "if percent <100 and percent >=80:\n",
    "    print(\"A+\")\n",
    "if percent <80 and percent >=70:\n",
    "    print(\"A\")        \n",
    "if percent <70 and percent >=60:\n",
    "    print(\"B\")\n",
    "if percent <60 and percent >=50:\n",
    "    print(\"C\")\n",
    "if percent <50 and percent >=40:\n",
    "    print(\"D\")    \n",
    "if percent <40 and percent >=33:\n",
    "    print(\"E\")\n",
    "elif percent < 0 and percent > 100:\n",
    "    print(\"you didnot write the correct percentage\")"
   ]
  },
  {
   "cell_type": "code",
   "execution_count": 11,
   "id": "2a85128c",
   "metadata": {},
   "outputs": [
    {
     "name": "stdout",
     "output_type": "stream",
     "text": [
      "Question 8\n",
      "Enter a number: 66\n",
      "This is an even number.\n"
     ]
    }
   ],
   "source": [
    "print(\"Question 8\");\n",
    "num = int(input(\"Enter a number: \"))\n",
    "mod = num % 2\n",
    "if mod > 0:\n",
    "    print(\"This is an odd number.\")\n",
    "else:\n",
    "    print(\"This is an even number.\")"
   ]
  },
  {
   "cell_type": "code",
   "execution_count": 12,
   "id": "aacbb8f7",
   "metadata": {},
   "outputs": [
    {
     "name": "stdout",
     "output_type": "stream",
     "text": [
      "Question 9\n",
      "['Arshiya', 'Aqsa', 'Neha', 'Areeba', 'Tuhoor']\n"
     ]
    }
   ],
   "source": [
    "print(\"Question 9\");\n",
    "A1=[\"Arshiya\",\"Aqsa\",\"Neha\",\"Areeba\",\"Tuhoor\"]\n",
    "print(A1)"
   ]
  },
  {
   "cell_type": "code",
   "execution_count": 13,
   "id": "4bccf2aa",
   "metadata": {},
   "outputs": [
    {
     "data": {
      "text/plain": [
       "5"
      ]
     },
     "execution_count": 13,
     "metadata": {},
     "output_type": "execute_result"
    }
   ],
   "source": [
    "len(A1)"
   ]
  },
  {
   "cell_type": "code",
   "execution_count": 14,
   "id": "c6ab3bd6",
   "metadata": {},
   "outputs": [
    {
     "name": "stdout",
     "output_type": "stream",
     "text": [
      "Question 10\n",
      "Sum of all elements in given list:  51\n"
     ]
    }
   ],
   "source": [
    "print(\"Question 10\");\n",
    "total = 0\n",
    "ele = 0\n",
    "list1 = [10, 15, 14, 9, 3] \n",
    " \n",
    "while(ele < len(list1)):\n",
    "    total = total + list1[ele]\n",
    "    ele += 1\n",
    "print(\"Sum of all elements in given list: \", total)"
   ]
  },
  {
   "cell_type": "code",
   "execution_count": 15,
   "id": "db32f58d",
   "metadata": {},
   "outputs": [
    {
     "name": "stdout",
     "output_type": "stream",
     "text": [
      "Question 11\n",
      "Largest element is: 4045\n"
     ]
    }
   ],
   "source": [
    "print(\"Question 11\");\n",
    "list1 = [1021, 2120, 400, 4045, 999]\n",
    "print(\"Largest element is:\", max(list1))"
   ]
  },
  {
   "cell_type": "code",
   "execution_count": 16,
   "id": "30e7e774",
   "metadata": {},
   "outputs": [
    {
     "name": "stdout",
     "output_type": "stream",
     "text": [
      "Question 12\n",
      "1\n",
      "1\n",
      "2\n",
      "3\n"
     ]
    }
   ],
   "source": [
    "print(\"Question 12\");\n",
    "a = [1, 1, 2, 3, 5, 8, 13, 21, 34, 55, 89]\n",
    "\n",
    "for i in a:\n",
    "\n",
    "    if i < 5:\n",
    "\n",
    "        print(i)"
   ]
  },
  {
   "cell_type": "code",
   "execution_count": null,
   "id": "3f4fee84",
   "metadata": {},
   "outputs": [],
   "source": []
  },
  {
   "cell_type": "code",
   "execution_count": null,
   "id": "47e1a6ff",
   "metadata": {},
   "outputs": [],
   "source": []
  },
  {
   "cell_type": "code",
   "execution_count": null,
   "id": "09f155cb",
   "metadata": {},
   "outputs": [],
   "source": []
  },
  {
   "cell_type": "code",
   "execution_count": null,
   "id": "1af9d388",
   "metadata": {},
   "outputs": [],
   "source": []
  },
  {
   "cell_type": "code",
   "execution_count": null,
   "id": "624d2d05",
   "metadata": {},
   "outputs": [],
   "source": []
  }
 ],
 "metadata": {
  "kernelspec": {
   "display_name": "Python 3",
   "language": "python",
   "name": "python3"
  },
  "language_info": {
   "codemirror_mode": {
    "name": "ipython",
    "version": 3
   },
   "file_extension": ".py",
   "mimetype": "text/x-python",
   "name": "python",
   "nbconvert_exporter": "python",
   "pygments_lexer": "ipython3",
   "version": "3.8.8"
  }
 },
 "nbformat": 4,
 "nbformat_minor": 5
}
